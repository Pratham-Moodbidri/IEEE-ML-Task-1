{
  "nbformat": 4,
  "nbformat_minor": 0,
  "metadata": {
    "colab": {
      "provenance": [],
      "authorship_tag": "ABX9TyOzsvl1Y3qDsEtljBsh9YC2",
      "include_colab_link": true
    },
    "kernelspec": {
      "name": "python3",
      "display_name": "Python 3"
    },
    "language_info": {
      "name": "python"
    }
  },
  "cells": [
    {
      "cell_type": "markdown",
      "metadata": {
        "id": "view-in-github",
        "colab_type": "text"
      },
      "source": [
        "<a href=\"https://colab.research.google.com/github/Pratham-Moodbidri/IEEE-ML-Task-1/blob/main/Calculations%20on%20dataset.ipynb\" target=\"_parent\"><img src=\"https://colab.research.google.com/assets/colab-badge.svg\" alt=\"Open In Colab\"/></a>"
      ]
    },
    {
      "cell_type": "code",
      "source": [
        "from google.colab import drive\n",
        "drive.mount('/content/drive') "
      ],
      "metadata": {
        "colab": {
          "base_uri": "https://localhost:8080/"
        },
        "id": "4zpC4zjZQS9p",
        "outputId": "f77b6f21-440f-4cfd-fbf9-9a9a1adb0acb"
      },
      "execution_count": 1,
      "outputs": [
        {
          "output_type": "stream",
          "name": "stdout",
          "text": [
            "Mounted at /content/drive\n"
          ]
        }
      ]
    },
    {
      "cell_type": "code",
      "source": [
        "import pandas as pd \n",
        "path = \"/content/drive/MyDrive/tvmarketing.csv\"\n",
        "df = pd.read_csv(path)\n",
        "print(df)\n"
      ],
      "metadata": {
        "colab": {
          "base_uri": "https://localhost:8080/"
        },
        "id": "lqxZRzAJQvsF",
        "outputId": "20d143d9-b116-4781-be39-272444b27c61"
      },
      "execution_count": 4,
      "outputs": [
        {
          "output_type": "stream",
          "name": "stdout",
          "text": [
            "        TV  Sales\n",
            "0    230.1   22.1\n",
            "1     44.5   10.4\n",
            "2     17.2    9.3\n",
            "3    151.5   18.5\n",
            "4    180.8   12.9\n",
            "..     ...    ...\n",
            "195   38.2    7.6\n",
            "196   94.2    9.7\n",
            "197  177.0   12.8\n",
            "198  283.6   25.5\n",
            "199  232.1   13.4\n",
            "\n",
            "[200 rows x 2 columns]\n"
          ]
        }
      ]
    },
    {
      "cell_type": "code",
      "source": [
        "print(\"Value count of TV Column is\",df['TV'].count())"
      ],
      "metadata": {
        "colab": {
          "base_uri": "https://localhost:8080/"
        },
        "id": "cq8ml16rSBj0",
        "outputId": "d5d1dd1c-ef8f-471e-a452-87e21900c88d"
      },
      "execution_count": 7,
      "outputs": [
        {
          "output_type": "stream",
          "name": "stdout",
          "text": [
            "Value count of TV Column is 200\n"
          ]
        }
      ]
    },
    {
      "cell_type": "code",
      "source": [
        "print(\"Value count of Sales Column is\",df['Sales'].count())"
      ],
      "metadata": {
        "colab": {
          "base_uri": "https://localhost:8080/"
        },
        "id": "qtLARvEBScrz",
        "outputId": "7eeeb18e-4a52-4897-e06d-dae2cfdfe0a8"
      },
      "execution_count": 8,
      "outputs": [
        {
          "output_type": "stream",
          "name": "stdout",
          "text": [
            "Value count of Sales Column is 200\n"
          ]
        }
      ]
    },
    {
      "cell_type": "code",
      "source": [
        "print(\"Maximum value of TV Column is\",df['TV'].max())"
      ],
      "metadata": {
        "colab": {
          "base_uri": "https://localhost:8080/"
        },
        "id": "RXtxlO_jSlXY",
        "outputId": "b4ef9344-10f5-4dbf-8673-9596cb34272d"
      },
      "execution_count": 9,
      "outputs": [
        {
          "output_type": "stream",
          "name": "stdout",
          "text": [
            "Maximum value of TV Column is 296.4\n"
          ]
        }
      ]
    },
    {
      "cell_type": "code",
      "source": [
        "print(\"Maximum value of Sales Column is\",df['Sales'].max())"
      ],
      "metadata": {
        "colab": {
          "base_uri": "https://localhost:8080/"
        },
        "id": "KWWzFoWfSzLy",
        "outputId": "b777fe1d-0b90-4ad7-bf33-ada37d7af4b5"
      },
      "execution_count": 10,
      "outputs": [
        {
          "output_type": "stream",
          "name": "stdout",
          "text": [
            "Maximum value of Sales Column is 27.0\n"
          ]
        }
      ]
    },
    {
      "cell_type": "code",
      "source": [
        "print(\"Mean value of TV Column is\",df['TV'].mean())"
      ],
      "metadata": {
        "colab": {
          "base_uri": "https://localhost:8080/"
        },
        "id": "6p1bImmWS31W",
        "outputId": "9cd16aee-dfc8-416a-a529-ee30fcdbd618"
      },
      "execution_count": 11,
      "outputs": [
        {
          "output_type": "stream",
          "name": "stdout",
          "text": [
            "Mean value of TV Column is 147.0425\n"
          ]
        }
      ]
    },
    {
      "cell_type": "code",
      "source": [
        "print(\"Mean value of Sales Column is\",df['Sales'].mean())"
      ],
      "metadata": {
        "colab": {
          "base_uri": "https://localhost:8080/"
        },
        "id": "4d9qjHqKTAGG",
        "outputId": "a4d93b5e-3663-4a16-b314-3e5808cc6465"
      },
      "execution_count": 12,
      "outputs": [
        {
          "output_type": "stream",
          "name": "stdout",
          "text": [
            "Mean value of Sales Column is 14.0225\n"
          ]
        }
      ]
    },
    {
      "cell_type": "code",
      "source": [
        "print(\"Standard Deviation of TV Column is\",df['TV'].std())"
      ],
      "metadata": {
        "colab": {
          "base_uri": "https://localhost:8080/"
        },
        "id": "1ZXWCt-QTGSL",
        "outputId": "0cb125e1-9731-4f3a-9f4d-c1ea12896b1e"
      },
      "execution_count": 13,
      "outputs": [
        {
          "output_type": "stream",
          "name": "stdout",
          "text": [
            "Standard Deviation of TV Column is 85.85423631490808\n"
          ]
        }
      ]
    },
    {
      "cell_type": "code",
      "source": [
        "print(\"Standard Deviation of Sales Column is\",df['Sales'].std())"
      ],
      "metadata": {
        "colab": {
          "base_uri": "https://localhost:8080/"
        },
        "id": "yp4JX-V0TO8H",
        "outputId": "5d7a01af-ffea-4ccd-cb2b-3b825d4146c8"
      },
      "execution_count": 14,
      "outputs": [
        {
          "output_type": "stream",
          "name": "stdout",
          "text": [
            "Standard Deviation of Sales Column is 5.217456565710478\n"
          ]
        }
      ]
    },
    {
      "cell_type": "code",
      "source": [
        "print(\"25% of TV Column is\",df['TV'].quantile(0.25))\n",
        "print(\"25% of Sales Column is\",df['Sales'].quantile(0.25))"
      ],
      "metadata": {
        "colab": {
          "base_uri": "https://localhost:8080/"
        },
        "id": "9Hx0HXIOTSmb",
        "outputId": "124c3ee3-3478-4a46-f795-654a6a67d2e1"
      },
      "execution_count": 18,
      "outputs": [
        {
          "output_type": "stream",
          "name": "stdout",
          "text": [
            "25% of TV Column is 74.375\n",
            "25% of Sales Column is 10.375\n"
          ]
        }
      ]
    },
    {
      "cell_type": "code",
      "source": [
        "print(\"50% of TV Column is\",df['TV'].quantile(0.50))\n",
        "print(\"50% of Sales Column is\",df['Sales'].quantile(0.50))"
      ],
      "metadata": {
        "colab": {
          "base_uri": "https://localhost:8080/"
        },
        "id": "UDVdODheTmjc",
        "outputId": "da37b30a-76fc-46db-fade-1c0c7d5d7730"
      },
      "execution_count": 19,
      "outputs": [
        {
          "output_type": "stream",
          "name": "stdout",
          "text": [
            "50% of TV Column is 149.75\n",
            "50% of Sales Column is 12.9\n"
          ]
        }
      ]
    },
    {
      "cell_type": "code",
      "source": [
        "print(\"75% of TV Column is\",df['TV'].quantile(0.75))\n",
        "print(\"75% of Sales Column is\",df['Sales'].quantile(0.75))"
      ],
      "metadata": {
        "colab": {
          "base_uri": "https://localhost:8080/"
        },
        "id": "Egp8J__9UB4A",
        "outputId": "4aa9a41f-e2bf-4966-f85b-9b6e7887c1ab"
      },
      "execution_count": 20,
      "outputs": [
        {
          "output_type": "stream",
          "name": "stdout",
          "text": [
            "75% of TV Column is 218.825\n",
            "75% of Sales Column is 17.4\n"
          ]
        }
      ]
    },
    {
      "cell_type": "code",
      "source": [],
      "metadata": {
        "id": "_8liykR_UG7_"
      },
      "execution_count": null,
      "outputs": []
    }
  ]
}